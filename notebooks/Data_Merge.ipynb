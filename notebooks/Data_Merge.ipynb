{
 "cells": [
  {
   "cell_type": "markdown",
   "metadata": {},
   "source": [
    "## Cruzamento dos Dados (Enunciado Questões + Microdados)\n",
    "\n",
    "* **Input**: Local do CSV de Questões Extraídas + Local do CSV de Microdados\n",
    "\n",
    "* **Output**: CSV com as colunas -> *numero_questao*, *enunciado*, *alternativas*, *nu_param_B* e *gabarito*"
   ]
  },
  {
   "cell_type": "code",
   "execution_count": 61,
   "metadata": {},
   "outputs": [],
   "source": [
    "import pandas as pd"
   ]
  },
  {
   "cell_type": "code",
   "execution_count": 120,
   "metadata": {},
   "outputs": [],
   "source": [
    "# Definição de Variáveis de Input e Output\n",
    "year = \"2015\"\n",
    "\n",
    "question_path = f\"../data/extracted_questions/enem_{year}.csv\"\n",
    "microdados_path = f\"../data/microdados/microdados_{year}.csv\"\n",
    "output_path = f\"../data/merged_data/enem_{year}.csv\""
   ]
  },
  {
   "cell_type": "code",
   "execution_count": 121,
   "metadata": {},
   "outputs": [],
   "source": [
    "# Ler o CSV extraído do PDF (resultado de Text_Extraction.ipynb)\n",
    "df_questions = pd.read_csv(question_path, encoding=\"utf-8\", quotechar='\"')\n",
    "\n",
    "# Ler o CSV de microdados\n",
    "df_microdados = pd.read_csv(microdados_path, delimiter=\";\", encoding=\"latin1\")"
   ]
  },
  {
   "cell_type": "code",
   "execution_count": 122,
   "metadata": {},
   "outputs": [],
   "source": [
    "co_prova = {\n",
    "    \"2015\": 275,\n",
    "    \"2016\": 351,\n",
    "    \"2017\": 391\n",
    "}"
   ]
  },
  {
   "cell_type": "code",
   "execution_count": 123,
   "metadata": {},
   "outputs": [],
   "source": [
    "# Filtrar os microdados para SG_AREA 'CN', TX_COR 'AZUL' e CO_PROVA 'X'\n",
    "# ATENÇÃO: O Código da Prova para a Aplicação Regular muda a cada ano\n",
    "df_microdados_filtrado = df_microdados[\n",
    "    (df_microdados[\"SG_AREA\"] == \"CN\")  # Ciência das Naturezas\n",
    "    & (df_microdados[\"TX_COR\"].str.upper() == \"AZUL\")  # Apenas caderno azul\n",
    "    & (df_microdados[\"CO_PROVA\"] == co_prova[year])  # Aplicação Regular\n",
    "]\n",
    "\n",
    "# Selecionar apenas as colunas de interesse dos microdados\n",
    "df_microdados_sel = df_microdados_filtrado[\n",
    "    [\"CO_POSICAO\", \"NU_PARAM_B\", \"TX_GABARITO\"]\n",
    "].copy()\n",
    "\n",
    "if year == \"2016\":\n",
    "    df_microdados_sel[\"CO_POSICAO\"] = df_microdados_sel[\"CO_POSICAO\"] - 45\n",
    "elif year == \"2017\":\n",
    "    df_microdados_sel[\"CO_POSICAO\"] = df_microdados_sel[\"CO_POSICAO\"] + 90"
   ]
  },
  {
   "cell_type": "code",
   "execution_count": 124,
   "metadata": {},
   "outputs": [],
   "source": [
    "# Certificar que os tipos das chaves de junção são compatíveis\n",
    "df_questions[\"numero_questao\"] = df_questions[\"numero_questao\"].astype(str)\n",
    "df_microdados_sel[\"CO_POSICAO\"] = df_microdados_sel[\"CO_POSICAO\"].astype(str)\n",
    "\n",
    "# Fazer o cruzamento usando o número da questão (numero_questao e CO_POSICAO)\n",
    "df_merged = pd.merge(\n",
    "    df_questions,\n",
    "    df_microdados_sel,\n",
    "    left_on=\"numero_questao\",\n",
    "    right_on=\"CO_POSICAO\",\n",
    "    how=\"left\",\n",
    ")"
   ]
  },
  {
   "cell_type": "code",
   "execution_count": 125,
   "metadata": {},
   "outputs": [
    {
     "name": "stdout",
     "output_type": "stream",
     "text": [
      "Merge concluído.\n"
     ]
    }
   ],
   "source": [
    "# Remover a coluna CO_POSICAO (redundante)\n",
    "df_merged.drop(columns=[\"CO_POSICAO\"], inplace=True)\n",
    "\n",
    "# Renomeando colunas\n",
    "df_merged.rename(columns={\n",
    "    \"NU_PARAM_B\": \"nu_param_B\",\n",
    "    \"TX_GABARITO\": \"gabarito\"\n",
    "}, inplace=True)\n",
    "\n",
    "\n",
    "# Salvando DF resultante\n",
    "df_merged.to_csv(output_path, index=False, encoding=\"utf-8\")\n",
    "\n",
    "print(\"Merge concluído.\")"
   ]
  },
  {
   "cell_type": "code",
   "execution_count": 126,
   "metadata": {},
   "outputs": [
    {
     "data": {
      "text/html": [
       "<div>\n",
       "<style scoped>\n",
       "    .dataframe tbody tr th:only-of-type {\n",
       "        vertical-align: middle;\n",
       "    }\n",
       "\n",
       "    .dataframe tbody tr th {\n",
       "        vertical-align: top;\n",
       "    }\n",
       "\n",
       "    .dataframe thead th {\n",
       "        text-align: right;\n",
       "    }\n",
       "</style>\n",
       "<table border=\"1\" class=\"dataframe\">\n",
       "  <thead>\n",
       "    <tr style=\"text-align: right;\">\n",
       "      <th></th>\n",
       "      <th>numero_questao</th>\n",
       "      <th>enunciado</th>\n",
       "      <th>alternativas</th>\n",
       "      <th>nu_param_B</th>\n",
       "      <th>gabarito</th>\n",
       "    </tr>\n",
       "  </thead>\n",
       "  <tbody>\n",
       "    <tr>\n",
       "      <th>0</th>\n",
       "      <td>46</td>\n",
       "      <td>Em uma flauta, as notas musicais possuem \\nfre...</td>\n",
       "      <td>A: L; B: L; C: L; D: L; E: 6L</td>\n",
       "      <td>2.28250</td>\n",
       "      <td>C</td>\n",
       "    </tr>\n",
       "    <tr>\n",
       "      <th>1</th>\n",
       "      <td>47</td>\n",
       "      <td>Durante a aula, um professor apresentou uma \\n...</td>\n",
       "      <td>A: obesidade.; B: osteoporose.; C: diabetes ti...</td>\n",
       "      <td>0.11367</td>\n",
       "      <td>D</td>\n",
       "    </tr>\n",
       "    <tr>\n",
       "      <th>2</th>\n",
       "      <td>48</td>\n",
       "      <td>O cladograma representa, de forma simplificada...</td>\n",
       "      <td>A: 1.; B: 2.; C: 3.; D: 4.; E: 5.</td>\n",
       "      <td>0.56500</td>\n",
       "      <td>C</td>\n",
       "    </tr>\n",
       "    <tr>\n",
       "      <th>3</th>\n",
       "      <td>49</td>\n",
       "      <td>Um eletricista projeta um circuito com três lâ...</td>\n",
       "      <td>A: 2\\n X.; B: X.; C: 3\\n X.; D: 2X.; E: 3X.</td>\n",
       "      <td>2.22439</td>\n",
       "      <td>C</td>\n",
       "    </tr>\n",
       "    <tr>\n",
       "      <th>4</th>\n",
       "      <td>50</td>\n",
       "      <td>O urânio é um elemento cujos átomos contêm 92 ...</td>\n",
       "      <td>A: 2,10; B: 7,70; C: 9,00; D: 33,0; E: 300</td>\n",
       "      <td>1.56282</td>\n",
       "      <td>D</td>\n",
       "    </tr>\n",
       "  </tbody>\n",
       "</table>\n",
       "</div>"
      ],
      "text/plain": [
       "   numero_questao                                          enunciado  \\\n",
       "0              46  Em uma flauta, as notas musicais possuem \\nfre...   \n",
       "1              47  Durante a aula, um professor apresentou uma \\n...   \n",
       "2              48  O cladograma representa, de forma simplificada...   \n",
       "3              49  Um eletricista projeta um circuito com três lâ...   \n",
       "4              50  O urânio é um elemento cujos átomos contêm 92 ...   \n",
       "\n",
       "                                        alternativas  nu_param_B gabarito  \n",
       "0                      A: L; B: L; C: L; D: L; E: 6L     2.28250        C  \n",
       "1  A: obesidade.; B: osteoporose.; C: diabetes ti...     0.11367        D  \n",
       "2                  A: 1.; B: 2.; C: 3.; D: 4.; E: 5.     0.56500        C  \n",
       "3        A: 2\\n X.; B: X.; C: 3\\n X.; D: 2X.; E: 3X.     2.22439        C  \n",
       "4         A: 2,10; B: 7,70; C: 9,00; D: 33,0; E: 300     1.56282        D  "
      ]
     },
     "execution_count": 126,
     "metadata": {},
     "output_type": "execute_result"
    }
   ],
   "source": [
    "df = pd.read_csv(output_path)\n",
    "df.head()"
   ]
  }
 ],
 "metadata": {
  "kernelspec": {
   "display_name": "Python 3.8.10 64-bit",
   "language": "python",
   "name": "python3"
  },
  "language_info": {
   "codemirror_mode": {
    "name": "ipython",
    "version": 3
   },
   "file_extension": ".py",
   "mimetype": "text/x-python",
   "name": "python",
   "nbconvert_exporter": "python",
   "pygments_lexer": "ipython3",
   "version": "3.8.10"
  },
  "vscode": {
   "interpreter": {
    "hash": "916dbcbb3f70747c44a77c7bcd40155683ae19c65e1c03b4aa3499c5328201f1"
   }
  }
 },
 "nbformat": 4,
 "nbformat_minor": 2
}
