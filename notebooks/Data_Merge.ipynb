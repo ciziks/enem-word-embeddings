{
 "cells": [
  {
   "cell_type": "markdown",
   "metadata": {},
   "source": [
    "## Cruzamento dos Dados (Enunciado Questões + Microdados)\n",
    "\n",
    "* **Input**: Local do CSV de Questões Extraídas + Local do CSV de Microdados\n",
    "\n",
    "* **Output**: CSV com as colunas -> *numero_questao*, *enunciado*, *alternativas*, *nu_param_B* e *gabarito*"
   ]
  },
  {
   "cell_type": "code",
   "execution_count": 29,
   "metadata": {},
   "outputs": [],
   "source": [
    "import pandas as pd"
   ]
  },
  {
   "cell_type": "code",
   "execution_count": 30,
   "metadata": {},
   "outputs": [],
   "source": [
    "# Definição de Variáveis de Input e Output\n",
    "year = 2021\n",
    "\n",
    "question_path = f\"../data/extracted_questions/enem_{year}.csv\"\n",
    "microdados_path = f\"../data/microdados/microdados_{year}.csv\"\n",
    "output_path = f\"../data/merged_data/enem_{year}.csv\""
   ]
  },
  {
   "cell_type": "code",
   "execution_count": 31,
   "metadata": {},
   "outputs": [],
   "source": [
    "# Ler o CSV extraído do PDF (resultado de Text_Extraction.ipynb)\n",
    "df_questions = pd.read_csv(question_path, encoding=\"utf-8\")\n",
    "\n",
    "# Ler o CSV de microdados\n",
    "df_microdados = pd.read_csv(microdados_path, delimiter=\";\", encoding=\"latin1\")"
   ]
  },
  {
   "cell_type": "code",
   "execution_count": 32,
   "metadata": {},
   "outputs": [],
   "source": [
    "# Filtrar os microdados para SG_AREA 'CN', TX_COR 'AZUL' e CO_PROVA 'X'\n",
    "# ATENÇÃO: O Código da Prova para a Aplicação Regular muda a cada ano\n",
    "df_microdados_filtrado = df_microdados[\n",
    "    (df_microdados[\"SG_AREA\"] == \"CN\")  # Ciência das Naturezas\n",
    "    & (df_microdados[\"TX_COR\"].str.upper() == \"AZUL\")  # Apenas caderno azul\n",
    "    & (df_microdados[\"CO_PROVA\"] == 909)  # Aplicação Regular\n",
    "]\n",
    "\n",
    "# Selecionar apenas as colunas de interesse dos microdados\n",
    "df_microdados_sel = df_microdados_filtrado[\n",
    "    [\"CO_POSICAO\", \"NU_PARAM_B\", \"TX_GABARITO\"]\n",
    "].copy()"
   ]
  },
  {
   "cell_type": "code",
   "execution_count": 33,
   "metadata": {},
   "outputs": [],
   "source": [
    "# Certificar que os tipos das chaves de junção são compatíveis\n",
    "df_questions[\"numero_questao\"] = df_questions[\"numero_questao\"].astype(str)\n",
    "df_microdados_sel[\"CO_POSICAO\"] = df_microdados_sel[\"CO_POSICAO\"].astype(str)\n",
    "\n",
    "# Fazer o cruzamento usando o número da questão (numero_questao e CO_POSICAO)\n",
    "df_merged = pd.merge(\n",
    "    df_questions,\n",
    "    df_microdados_sel,\n",
    "    left_on=\"numero_questao\",\n",
    "    right_on=\"CO_POSICAO\",\n",
    "    how=\"left\",\n",
    ")"
   ]
  },
  {
   "cell_type": "code",
   "execution_count": 34,
   "metadata": {},
   "outputs": [
    {
     "name": "stdout",
     "output_type": "stream",
     "text": [
      "Merge concluído.\n"
     ]
    }
   ],
   "source": [
    "# Remover a coluna CO_POSICAO (redundante)\n",
    "df_merged.drop(columns=[\"CO_POSICAO\"], inplace=True)\n",
    "\n",
    "# Renomeando colunas\n",
    "df_merged.rename(columns={\n",
    "    \"NU_PARAM_B\": \"nu_param_B\",\n",
    "    \"TX_GABARITO\": \"gabarito\"\n",
    "}, inplace=True)\n",
    "\n",
    "\n",
    "# Salvando DF resultante\n",
    "df_merged.to_csv(output_path, index=False, encoding=\"utf-8\")\n",
    "\n",
    "print(\"Merge concluído.\")"
   ]
  },
  {
   "cell_type": "code",
   "execution_count": 35,
   "metadata": {},
   "outputs": [
    {
     "data": {
      "text/html": [
       "<div>\n",
       "<style scoped>\n",
       "    .dataframe tbody tr th:only-of-type {\n",
       "        vertical-align: middle;\n",
       "    }\n",
       "\n",
       "    .dataframe tbody tr th {\n",
       "        vertical-align: top;\n",
       "    }\n",
       "\n",
       "    .dataframe thead th {\n",
       "        text-align: right;\n",
       "    }\n",
       "</style>\n",
       "<table border=\"1\" class=\"dataframe\">\n",
       "  <thead>\n",
       "    <tr style=\"text-align: right;\">\n",
       "      <th></th>\n",
       "      <th>numero_questao</th>\n",
       "      <th>enunciado</th>\n",
       "      <th>alternativas</th>\n",
       "      <th>nu_param_B</th>\n",
       "      <th>gabarito</th>\n",
       "    </tr>\n",
       "  </thead>\n",
       "  <tbody>\n",
       "    <tr>\n",
       "      <th>0</th>\n",
       "      <td>92</td>\n",
       "      <td>O sino dos ventos é composto por várias barras...</td>\n",
       "      <td>A: f  &lt; f  e v  &lt; v .; B: f  &lt; f  e v  = v .; ...</td>\n",
       "      <td>1.65693</td>\n",
       "      <td>D</td>\n",
       "    </tr>\n",
       "    <tr>\n",
       "      <th>1</th>\n",
       "      <td>93</td>\n",
       "      <td>O polvo mimético apresenta padrões cromáticos ...</td>\n",
       "      <td>A: originaram-se do mesmo ancestral que esses ...</td>\n",
       "      <td>0.64628</td>\n",
       "      <td>E</td>\n",
       "    </tr>\n",
       "    <tr>\n",
       "      <th>2</th>\n",
       "      <td>94</td>\n",
       "      <td>A figura foi extraída de um antigo jogo para c...</td>\n",
       "      <td>A: 30 m/s.; B: 35 m/s.; C: 40 m/s.; D: 45 m/s....</td>\n",
       "      <td>3.24395</td>\n",
       "      <td>C</td>\n",
       "    </tr>\n",
       "    <tr>\n",
       "      <th>3</th>\n",
       "      <td>95</td>\n",
       "      <td>Os pesticidas organoclorados foram amplamente ...</td>\n",
       "      <td>A: 3,9 g.; B: 31,2 g.; C: 62,5 g.; D: 125,0 g....</td>\n",
       "      <td>0.76309</td>\n",
       "      <td>A</td>\n",
       "    </tr>\n",
       "    <tr>\n",
       "      <th>4</th>\n",
       "      <td>96</td>\n",
       "      <td>A sequência de nucleotídeos do RNA mensageiro ...</td>\n",
       "      <td>A: Deleção de G no códon 3.; B: Substituição d...</td>\n",
       "      <td>1.12828</td>\n",
       "      <td>B</td>\n",
       "    </tr>\n",
       "  </tbody>\n",
       "</table>\n",
       "</div>"
      ],
      "text/plain": [
       "   numero_questao                                          enunciado  \\\n",
       "0              92  O sino dos ventos é composto por várias barras...   \n",
       "1              93  O polvo mimético apresenta padrões cromáticos ...   \n",
       "2              94  A figura foi extraída de um antigo jogo para c...   \n",
       "3              95  Os pesticidas organoclorados foram amplamente ...   \n",
       "4              96  A sequência de nucleotídeos do RNA mensageiro ...   \n",
       "\n",
       "                                        alternativas  nu_param_B gabarito  \n",
       "0  A: f  < f  e v  < v .; B: f  < f  e v  = v .; ...     1.65693        D  \n",
       "1  A: originaram-se do mesmo ancestral que esses ...     0.64628        E  \n",
       "2  A: 30 m/s.; B: 35 m/s.; C: 40 m/s.; D: 45 m/s....     3.24395        C  \n",
       "3  A: 3,9 g.; B: 31,2 g.; C: 62,5 g.; D: 125,0 g....     0.76309        A  \n",
       "4  A: Deleção de G no códon 3.; B: Substituição d...     1.12828        B  "
      ]
     },
     "execution_count": 35,
     "metadata": {},
     "output_type": "execute_result"
    }
   ],
   "source": [
    "df = pd.read_csv(output_path)\n",
    "df.head()"
   ]
  }
 ],
 "metadata": {
  "kernelspec": {
   "display_name": ".venv",
   "language": "python",
   "name": "python3"
  },
  "language_info": {
   "codemirror_mode": {
    "name": "ipython",
    "version": 3
   },
   "file_extension": ".py",
   "mimetype": "text/x-python",
   "name": "python",
   "nbconvert_exporter": "python",
   "pygments_lexer": "ipython3",
   "version": "3.11.3"
  }
 },
 "nbformat": 4,
 "nbformat_minor": 2
}
